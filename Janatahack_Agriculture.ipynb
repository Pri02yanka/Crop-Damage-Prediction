{
 "cells": [
  {
   "cell_type": "code",
   "execution_count": 24,
   "metadata": {},
   "outputs": [],
   "source": [
    "# Import libraries\n",
    "import pandas as pd\n",
    "import numpy as np\n",
    "import warnings\n",
    "warnings.filterwarnings('ignore')\n",
    "# Plotting graphs\n",
    "import matplotlib.pyplot as plt\n",
    "%matplotlib inline\n",
    "import seaborn as sns\n",
    "\n",
    "from xgboost import XGBClassifier\n",
    "from sklearn.metrics import precision_score, recall_score, accuracy_score,confusion_matrix\n",
    "\n",
    "from sklearn.model_selection import train_test_split, KFold, StratifiedKFold\n",
    "from lightgbm import LGBMModel,LGBMClassifier\n",
    "\n",
    "from sklearn.ensemble import RandomForestRegressor\n",
    "\n",
    "import catboost as cb"
   ]
  },
  {
   "cell_type": "code",
   "execution_count": 2,
   "metadata": {},
   "outputs": [],
   "source": [
    "train_df= pd.read_csv('.../train_yaOffsB.csv')\n",
    "test_df= pd.read_csv('.../test_pFkWwen.csv')"
   ]
  },
  {
   "cell_type": "code",
   "execution_count": 3,
   "metadata": {},
   "outputs": [
    {
     "data": {
      "text/html": [
       "<div>\n",
       "<style scoped>\n",
       "    .dataframe tbody tr th:only-of-type {\n",
       "        vertical-align: middle;\n",
       "    }\n",
       "\n",
       "    .dataframe tbody tr th {\n",
       "        vertical-align: top;\n",
       "    }\n",
       "\n",
       "    .dataframe thead th {\n",
       "        text-align: right;\n",
       "    }\n",
       "</style>\n",
       "<table border=\"1\" class=\"dataframe\">\n",
       "  <thead>\n",
       "    <tr style=\"text-align: right;\">\n",
       "      <th></th>\n",
       "      <th>Type_Train</th>\n",
       "      <th>Type_Test</th>\n",
       "    </tr>\n",
       "  </thead>\n",
       "  <tbody>\n",
       "    <tr>\n",
       "      <th>Crop_Damage</th>\n",
       "      <td>int64</td>\n",
       "      <td>NaN</td>\n",
       "    </tr>\n",
       "    <tr>\n",
       "      <th>Crop_Type</th>\n",
       "      <td>int64</td>\n",
       "      <td>int64</td>\n",
       "    </tr>\n",
       "    <tr>\n",
       "      <th>Estimated_Insects_Count</th>\n",
       "      <td>int64</td>\n",
       "      <td>int64</td>\n",
       "    </tr>\n",
       "    <tr>\n",
       "      <th>ID</th>\n",
       "      <td>object</td>\n",
       "      <td>object</td>\n",
       "    </tr>\n",
       "    <tr>\n",
       "      <th>Number_Doses_Week</th>\n",
       "      <td>int64</td>\n",
       "      <td>int64</td>\n",
       "    </tr>\n",
       "    <tr>\n",
       "      <th>Number_Weeks_Quit</th>\n",
       "      <td>int64</td>\n",
       "      <td>int64</td>\n",
       "    </tr>\n",
       "    <tr>\n",
       "      <th>Number_Weeks_Used</th>\n",
       "      <td>float64</td>\n",
       "      <td>float64</td>\n",
       "    </tr>\n",
       "    <tr>\n",
       "      <th>Pesticide_Use_Category</th>\n",
       "      <td>int64</td>\n",
       "      <td>int64</td>\n",
       "    </tr>\n",
       "    <tr>\n",
       "      <th>Season</th>\n",
       "      <td>int64</td>\n",
       "      <td>int64</td>\n",
       "    </tr>\n",
       "    <tr>\n",
       "      <th>Soil_Type</th>\n",
       "      <td>int64</td>\n",
       "      <td>int64</td>\n",
       "    </tr>\n",
       "  </tbody>\n",
       "</table>\n",
       "</div>"
      ],
      "text/plain": [
       "                        Type_Train Type_Test\n",
       "Crop_Damage                  int64       NaN\n",
       "Crop_Type                    int64     int64\n",
       "Estimated_Insects_Count      int64     int64\n",
       "ID                          object    object\n",
       "Number_Doses_Week            int64     int64\n",
       "Number_Weeks_Quit            int64     int64\n",
       "Number_Weeks_Used          float64   float64\n",
       "Pesticide_Use_Category       int64     int64\n",
       "Season                       int64     int64\n",
       "Soil_Type                    int64     int64"
      ]
     },
     "execution_count": 3,
     "metadata": {},
     "output_type": "execute_result"
    }
   ],
   "source": [
    "# data types\n",
    "pd.DataFrame({'Type_Train':train_df.dtypes,'Type_Test':test_df.dtypes})"
   ]
  },
  {
   "cell_type": "code",
   "execution_count": 4,
   "metadata": {},
   "outputs": [],
   "source": [
    "train_df['train_or_test']='train'\n",
    "test_df['train_or_test']='test'\n",
    "df=pd.concat([train_df,test_df])"
   ]
  },
  {
   "cell_type": "code",
   "execution_count": 5,
   "metadata": {},
   "outputs": [
    {
     "name": "stdout",
     "output_type": "stream",
     "text": [
      "                         Total     %\n",
      "Crop_Damage              59310  40.0\n",
      "Number_Weeks_Used        14893  10.1\n",
      "train_or_test                0   0.0\n",
      "Soil_Type                    0   0.0\n",
      "Season                       0   0.0\n",
      "Pesticide_Use_Category       0   0.0\n",
      "Number_Weeks_Quit            0   0.0\n",
      "Number_Doses_Week            0   0.0\n",
      "ID                           0   0.0\n",
      "Estimated_Insects_Count      0   0.0\n",
      "Crop_Type                    0   0.0\n"
     ]
    }
   ],
   "source": [
    "# missing values treatment\n",
    "def nan_check(data):\n",
    "    total= data.isnull().sum().sort_values(ascending= False)\n",
    "    percentage_1= data.isnull().sum()/data.isnull().count()*100\n",
    "    percentage_2= (np.round(percentage_1,1)).sort_values(ascending= False)\n",
    "    missing_data= pd.concat([total,percentage_2], axis=1, keys= ['Total','%'])\n",
    "    return missing_data\n",
    "print(nan_check(df))"
   ]
  },
  {
   "cell_type": "code",
   "execution_count": 6,
   "metadata": {},
   "outputs": [
    {
     "data": {
      "text/html": [
       "<div>\n",
       "<style scoped>\n",
       "    .dataframe tbody tr th:only-of-type {\n",
       "        vertical-align: middle;\n",
       "    }\n",
       "\n",
       "    .dataframe tbody tr th {\n",
       "        vertical-align: top;\n",
       "    }\n",
       "\n",
       "    .dataframe thead th {\n",
       "        text-align: right;\n",
       "    }\n",
       "</style>\n",
       "<table border=\"1\" class=\"dataframe\">\n",
       "  <thead>\n",
       "    <tr style=\"text-align: right;\">\n",
       "      <th></th>\n",
       "      <th>Crop_Damage</th>\n",
       "      <th>Crop_Type</th>\n",
       "      <th>Estimated_Insects_Count</th>\n",
       "      <th>Number_Doses_Week</th>\n",
       "      <th>Number_Weeks_Quit</th>\n",
       "      <th>Number_Weeks_Used</th>\n",
       "      <th>Pesticide_Use_Category</th>\n",
       "      <th>Season</th>\n",
       "      <th>Soil_Type</th>\n",
       "    </tr>\n",
       "  </thead>\n",
       "  <tbody>\n",
       "    <tr>\n",
       "      <th>Crop_Damage</th>\n",
       "      <td>1.000000</td>\n",
       "      <td>-0.016495</td>\n",
       "      <td>0.202888</td>\n",
       "      <td>-0.030874</td>\n",
       "      <td>-0.133117</td>\n",
       "      <td>0.232192</td>\n",
       "      <td>0.175002</td>\n",
       "      <td>-0.000184</td>\n",
       "      <td>-0.021997</td>\n",
       "    </tr>\n",
       "    <tr>\n",
       "      <th>Crop_Type</th>\n",
       "      <td>-0.016495</td>\n",
       "      <td>1.000000</td>\n",
       "      <td>-0.090363</td>\n",
       "      <td>-0.191225</td>\n",
       "      <td>-0.234154</td>\n",
       "      <td>-0.044251</td>\n",
       "      <td>0.234132</td>\n",
       "      <td>0.002445</td>\n",
       "      <td>-0.289331</td>\n",
       "    </tr>\n",
       "    <tr>\n",
       "      <th>Estimated_Insects_Count</th>\n",
       "      <td>0.202888</td>\n",
       "      <td>-0.090363</td>\n",
       "      <td>1.000000</td>\n",
       "      <td>-0.102897</td>\n",
       "      <td>0.299628</td>\n",
       "      <td>0.435800</td>\n",
       "      <td>-0.082212</td>\n",
       "      <td>-0.001141</td>\n",
       "      <td>-0.056379</td>\n",
       "    </tr>\n",
       "    <tr>\n",
       "      <th>Number_Doses_Week</th>\n",
       "      <td>-0.030874</td>\n",
       "      <td>-0.191225</td>\n",
       "      <td>-0.102897</td>\n",
       "      <td>1.000000</td>\n",
       "      <td>-0.038623</td>\n",
       "      <td>0.126811</td>\n",
       "      <td>-0.000223</td>\n",
       "      <td>-0.000210</td>\n",
       "      <td>0.079209</td>\n",
       "    </tr>\n",
       "    <tr>\n",
       "      <th>Number_Weeks_Quit</th>\n",
       "      <td>-0.133117</td>\n",
       "      <td>-0.234154</td>\n",
       "      <td>0.299628</td>\n",
       "      <td>-0.038623</td>\n",
       "      <td>1.000000</td>\n",
       "      <td>-0.447658</td>\n",
       "      <td>-0.552969</td>\n",
       "      <td>0.001636</td>\n",
       "      <td>0.009091</td>\n",
       "    </tr>\n",
       "    <tr>\n",
       "      <th>Number_Weeks_Used</th>\n",
       "      <td>0.232192</td>\n",
       "      <td>-0.044251</td>\n",
       "      <td>0.435800</td>\n",
       "      <td>0.126811</td>\n",
       "      <td>-0.447658</td>\n",
       "      <td>1.000000</td>\n",
       "      <td>0.344317</td>\n",
       "      <td>0.001317</td>\n",
       "      <td>-0.068448</td>\n",
       "    </tr>\n",
       "    <tr>\n",
       "      <th>Pesticide_Use_Category</th>\n",
       "      <td>0.175002</td>\n",
       "      <td>0.234132</td>\n",
       "      <td>-0.082212</td>\n",
       "      <td>-0.000223</td>\n",
       "      <td>-0.552969</td>\n",
       "      <td>0.344317</td>\n",
       "      <td>1.000000</td>\n",
       "      <td>-0.000078</td>\n",
       "      <td>0.034108</td>\n",
       "    </tr>\n",
       "    <tr>\n",
       "      <th>Season</th>\n",
       "      <td>-0.000184</td>\n",
       "      <td>0.002445</td>\n",
       "      <td>-0.001141</td>\n",
       "      <td>-0.000210</td>\n",
       "      <td>0.001636</td>\n",
       "      <td>0.001317</td>\n",
       "      <td>-0.000078</td>\n",
       "      <td>1.000000</td>\n",
       "      <td>0.000163</td>\n",
       "    </tr>\n",
       "    <tr>\n",
       "      <th>Soil_Type</th>\n",
       "      <td>-0.021997</td>\n",
       "      <td>-0.289331</td>\n",
       "      <td>-0.056379</td>\n",
       "      <td>0.079209</td>\n",
       "      <td>0.009091</td>\n",
       "      <td>-0.068448</td>\n",
       "      <td>0.034108</td>\n",
       "      <td>0.000163</td>\n",
       "      <td>1.000000</td>\n",
       "    </tr>\n",
       "  </tbody>\n",
       "</table>\n",
       "</div>"
      ],
      "text/plain": [
       "                         Crop_Damage  Crop_Type  Estimated_Insects_Count  \\\n",
       "Crop_Damage                 1.000000  -0.016495                 0.202888   \n",
       "Crop_Type                  -0.016495   1.000000                -0.090363   \n",
       "Estimated_Insects_Count     0.202888  -0.090363                 1.000000   \n",
       "Number_Doses_Week          -0.030874  -0.191225                -0.102897   \n",
       "Number_Weeks_Quit          -0.133117  -0.234154                 0.299628   \n",
       "Number_Weeks_Used           0.232192  -0.044251                 0.435800   \n",
       "Pesticide_Use_Category      0.175002   0.234132                -0.082212   \n",
       "Season                     -0.000184   0.002445                -0.001141   \n",
       "Soil_Type                  -0.021997  -0.289331                -0.056379   \n",
       "\n",
       "                         Number_Doses_Week  Number_Weeks_Quit  \\\n",
       "Crop_Damage                      -0.030874          -0.133117   \n",
       "Crop_Type                        -0.191225          -0.234154   \n",
       "Estimated_Insects_Count          -0.102897           0.299628   \n",
       "Number_Doses_Week                 1.000000          -0.038623   \n",
       "Number_Weeks_Quit                -0.038623           1.000000   \n",
       "Number_Weeks_Used                 0.126811          -0.447658   \n",
       "Pesticide_Use_Category           -0.000223          -0.552969   \n",
       "Season                           -0.000210           0.001636   \n",
       "Soil_Type                         0.079209           0.009091   \n",
       "\n",
       "                         Number_Weeks_Used  Pesticide_Use_Category    Season  \\\n",
       "Crop_Damage                       0.232192                0.175002 -0.000184   \n",
       "Crop_Type                        -0.044251                0.234132  0.002445   \n",
       "Estimated_Insects_Count           0.435800               -0.082212 -0.001141   \n",
       "Number_Doses_Week                 0.126811               -0.000223 -0.000210   \n",
       "Number_Weeks_Quit                -0.447658               -0.552969  0.001636   \n",
       "Number_Weeks_Used                 1.000000                0.344317  0.001317   \n",
       "Pesticide_Use_Category            0.344317                1.000000 -0.000078   \n",
       "Season                            0.001317               -0.000078  1.000000   \n",
       "Soil_Type                        -0.068448                0.034108  0.000163   \n",
       "\n",
       "                         Soil_Type  \n",
       "Crop_Damage              -0.021997  \n",
       "Crop_Type                -0.289331  \n",
       "Estimated_Insects_Count  -0.056379  \n",
       "Number_Doses_Week         0.079209  \n",
       "Number_Weeks_Quit         0.009091  \n",
       "Number_Weeks_Used        -0.068448  \n",
       "Pesticide_Use_Category    0.034108  \n",
       "Season                    0.000163  \n",
       "Soil_Type                 1.000000  "
      ]
     },
     "execution_count": 6,
     "metadata": {},
     "output_type": "execute_result"
    }
   ],
   "source": [
    "# correlation\n",
    "df.corr()"
   ]
  },
  {
   "cell_type": "code",
   "execution_count": 7,
   "metadata": {},
   "outputs": [],
   "source": [
    "df.reset_index(inplace=True)"
   ]
  },
  {
   "cell_type": "code",
   "execution_count": 8,
   "metadata": {},
   "outputs": [
    {
     "data": {
      "text/plain": [
       "<matplotlib.axes._subplots.AxesSubplot at 0x1393e229888>"
      ]
     },
     "execution_count": 8,
     "metadata": {},
     "output_type": "execute_result"
    },
    {
     "data": {
      "image/png": "[encoded data removed]",
      "text/plain": [
       "<Figure size 432x288 with 1 Axes>"
      ]
     },
     "metadata": {
      "needs_background": "light"
     },
     "output_type": "display_data"
    }
   ],
   "source": [
    "df.Season.value_counts().plot('bar')"
   ]
  },
  {
   "cell_type": "code",
   "execution_count": 9,
   "metadata": {},
   "outputs": [
    {
     "data": {
      "text/plain": [
       "<matplotlib.axes._subplots.AxesSubplot at 0x1394f363e48>"
      ]
     },
     "execution_count": 9,
     "metadata": {},
     "output_type": "execute_result"
    },
    {
     "data": {
      "image/png": "[encoded data removed]",
      "text/plain": [
       "<Figure size 432x288 with 1 Axes>"
      ]
     },
     "metadata": {
      "needs_background": "light"
     },
     "output_type": "display_data"
    }
   ],
   "source": [
    "df.Crop_Type.value_counts().plot('bar')"
   ]
  },
  {
   "cell_type": "code",
   "execution_count": 10,
   "metadata": {},
   "outputs": [
    {
     "data": {
      "text/plain": [
       "<matplotlib.axes._subplots.AxesSubplot at 0x1394f447988>"
      ]
     },
     "execution_count": 10,
     "metadata": {},
     "output_type": "execute_result"
    },
    {
     "data": {
      "image/png": "[encoded data removed]",
      "text/plain": [
       "<Figure size 432x288 with 1 Axes>"
      ]
     },
     "metadata": {
      "needs_background": "light"
     },
     "output_type": "display_data"
    }
   ],
   "source": [
    "df.Pesticide_Use_Category.value_counts().plot('bar')"
   ]
  },
  {
   "cell_type": "code",
   "execution_count": 11,
   "metadata": {},
   "outputs": [],
   "source": [
    "train=df.loc[df.train_or_test.isin(['train'])]\n",
    "test=df.loc[df.train_or_test.isin(['test'])]\n",
    "train.drop(columns={'train_or_test'},axis=1,inplace=True)\n",
    "test.drop(columns={'train_or_test'},axis=1,inplace=True)"
   ]
  },
  {
   "cell_type": "code",
   "execution_count": 12,
   "metadata": {},
   "outputs": [],
   "source": [
    "\n",
    "train['Number_Weeks_Used'].fillna((train['Number_Weeks_Used'].mean()), inplace=True)\n",
    "test['Number_Weeks_Used'].fillna((test['Number_Weeks_Used'].mean()), inplace=True)"
   ]
  },
  {
   "cell_type": "code",
   "execution_count": 13,
   "metadata": {},
   "outputs": [
    {
     "data": {
      "text/plain": [
       "((88858, 8), (59310, 8))"
      ]
     },
     "execution_count": 13,
     "metadata": {},
     "output_type": "execute_result"
    }
   ],
   "source": [
    "y=train.loc[:,['Crop_Damage']]\n",
    "train=train[['Crop_Type','Estimated_Insects_Count','Number_Doses_Week','Number_Weeks_Quit','Number_Weeks_Used',\n",
    "               'Pesticide_Use_Category','Season','Soil_Type']]\n",
    "\n",
    "# Y=train.loc[:,['Crop_Damage']]\n",
    "\n",
    "X_eval=test[['Crop_Type','Estimated_Insects_Count','Number_Doses_Week','Number_Weeks_Quit','Number_Weeks_Used','Pesticide_Use_Category','Season','Soil_Type']]\n",
    "train.shape, X_eval.shape"
   ]
  },
  {
   "cell_type": "code",
   "execution_count": 14,
   "metadata": {},
   "outputs": [],
   "source": [
    "# Train test split\n",
    "from sklearn.model_selection import train_test_split\n",
    "X_train, X_test, Y_train, Y_test = train_test_split(train, y, test_size=0.2)"
   ]
  },
  {
   "cell_type": "code",
   "execution_count": 15,
   "metadata": {},
   "outputs": [],
   "source": [
    "# data scaling\n",
    "col=X_train.columns\n",
    "from sklearn.preprocessing import StandardScaler\n",
    "st=StandardScaler()\n",
    "st.fit(X_train)\n",
    "X_train=st.transform(X_train)\n",
    "X_test=st.transform(X_test)\n",
    "validation=st.transform(X_eval)"
   ]
  },
  {
   "cell_type": "code",
   "execution_count": 21,
   "metadata": {},
   "outputs": [
    {
     "name": "stdout",
     "output_type": "stream",
     "text": [
      "[[14274   626     0]\n",
      " [ 1897   519     0]\n",
      " [  265   191     0]]\n",
      "Precision = 0.41897751102807773\n",
      "Recall = 0.39093481932530333\n",
      "Accuracy = 0.8323767724510466\n"
     ]
    }
   ],
   "source": [
    "# Random Forest\n",
    "rf=RandomForestRegressor(n_estimators=500,max_depth=6, n_jobs=4)\n",
    "rf.fit(X_train,Y_train)\n",
    "y_pred_rf=rf.predict(X_test)\n",
    "predictions_rf = [round(value) for value in y_pred_rf]\n",
    "print(confusion_matrix(Y_test,predictions_rf))\n",
    "print(\"Precision = {}\".format(precision_score(Y_test, predictions_rf, average='macro')))\n",
    "print(\"Recall = {}\".format(recall_score(Y_test, predictions_rf, average='macro')))\n",
    "print(\"Accuracy = {}\".format(accuracy_score(Y_test, predictions_rf)))"
   ]
  },
  {
   "cell_type": "code",
   "execution_count": 30,
   "metadata": {},
   "outputs": [
    {
     "name": "stdout",
     "output_type": "stream",
     "text": [
      "[[14795   105     0]\n",
      " [ 2167   249     0]\n",
      " [  366    90     0]]\n",
      "Precision = 0.4715437390298886\n",
      "Recall = 0.3653386446805043\n",
      "Accuracy = 0.8465001125365744\n"
     ]
    }
   ],
   "source": [
    "# XG Boost\n",
    "xgb=XGBClassifier( booster='gbtree', colsample_bylevel=1, colsample_bytree=0.8, gamma=1.5, \n",
    "                  learning_rate=0.01, max_delta_step=0, max_depth=7, min_child_weight=0, missing=None, \n",
    "                  n_estimators=200, n_jobs=-1, nthread=None, objective='multi:softprob', random_state=0, \n",
    "                  reg_alpha=0, reg_lambda=1, scale_pos_weight=1, seed=None, silent=True, subsample=0.8)\n",
    "xgb.fit(X_train,Y_train)\n",
    "y_pred = xgb.predict(X_test)\n",
    "predictions = [round(value) for value in y_pred]\n",
    "print(confusion_matrix(Y_test,predictions))\n",
    "print(\"Precision = {}\".format(precision_score(Y_test, predictions, average='macro')))\n",
    "print(\"Recall = {}\".format(recall_score(Y_test, predictions, average='macro')))\n",
    "print(\"Accuracy = {}\".format(accuracy_score(Y_test, predictions)))\n",
    "\n",
    "\n",
    "pred=xgb.predict(validation)\n",
    "final_predictions = [round(value) for value in pred]\n",
    "\n",
    "output_df= pd.DataFrame({'ID': test['ID'].values})\n",
    "output_df['Crop_Damage']= final_predictions\n",
    "output_df.to_csv('.../xgb.csv',index=False)"
   ]
  },
  {
   "cell_type": "code",
   "execution_count": 29,
   "metadata": {},
   "outputs": [
    {
     "name": "stdout",
     "output_type": "stream",
     "text": [
      "[[14701   199     0]\n",
      " [ 2060   356     0]\n",
      " [  333   123     0]]\n",
      "Precision = 0.46169436877401476\n",
      "Recall = 0.37799842955983226\n",
      "Accuracy = 0.8472316002700878\n"
     ]
    }
   ],
   "source": [
    "# Light GBM\n",
    "Lgb = LGBMClassifier(n_estimators=90, silent=False, random_state =0, max_depth=5,num_leaves=31)\n",
    "\n",
    "Lgb.fit(X_train,Y_train)\n",
    "y_pred_lgb = Lgb.predict(X_test)\n",
    "predictions_lgb = [round(value) for value in y_pred_lgb]\n",
    "print(confusion_matrix(Y_test,predictions_lgb))\n",
    "print(\"Precision = {}\".format(precision_score(Y_test, predictions_lgb, average='macro')))\n",
    "print(\"Recall = {}\".format(recall_score(Y_test, predictions_lgb, average='macro')))\n",
    "print(\"Accuracy = {}\".format(accuracy_score(Y_test, predictions_lgb)))\n",
    "\n",
    "pred_lgb=Lgb.predict(validation)\n",
    "final_prediction_lgb = [round(value) for value in pred_lgb]\n",
    "\n",
    "output_df1= pd.DataFrame({'ID': test['ID'].values})\n",
    "output_df1['Crop_Damage']= final_predictions\n",
    "output_df1.to_csv('.../lgb.csv',index=False)"
   ]
  },
  {
   "cell_type": "code",
   "execution_count": 31,
   "metadata": {},
   "outputs": [],
   "source": [
    "merge_df= pd.merge(output_df, output_df1, on= 'ID', how= 'inner')\n",
    "#pd.concat([output_df, output_df3]).groupby(level=0).mean()\n",
    "merge_df['avg_Crop_Damage']= (merge_df.Crop_Damage_x + merge_df.Crop_Damage_y)/2\n",
    "output_df4= pd.DataFrame({'ID': test_df['ID'].values})\n",
    "output_df4['Crop_Damage']= merge_df['avg_Crop_Damage']\n",
    "output_df4.to_csv('.../5th.csv', index=False)"
   ]
  },
  {
   "cell_type": "code",
   "execution_count": null,
   "metadata": {},
   "outputs": [],
   "source": []
  }
 ],
 "metadata": {
  "kernelspec": {
   "display_name": "Python 3",
   "language": "python",
   "name": "python3"
  },
  "language_info": {
   "codemirror_mode": {
    "name": "ipython",
    "version": 3
   },
   "file_extension": ".py",
   "mimetype": "text/x-python",
   "name": "python",
   "nbconvert_exporter": "python",
   "pygments_lexer": "ipython3",
   "version": "3.7.4"
  }
 },
 "nbformat": 4,
 "nbformat_minor": 4
}
